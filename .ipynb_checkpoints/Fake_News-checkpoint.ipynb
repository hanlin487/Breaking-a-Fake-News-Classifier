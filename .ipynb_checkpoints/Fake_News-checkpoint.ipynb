{
 "cells": [
  {
   "cell_type": "markdown",
   "metadata": {
    "id": "92-ANrgqCS7T"
   },
   "source": [
    "# Fake News Detector\n",
    "This is a fake news detector using this guide: [Fake News Detection in Python](https://thepythoncode.com/article/fake-news-classification-in-python)\n",
    "\n",
    "The dataset used here and from the guide is this [Kaggle Notebook](https://www.kaggle.com/c/fake-news/data?select=train.csv)"
   ]
  },
  {
   "cell_type": "code",
   "execution_count": 1,
   "metadata": {
    "id": "OfH6DnNdJcIT",
    "scrolled": true
   },
   "outputs": [],
   "source": [
    "# !pip install --upgrade pip\n",
    "# !pip install transformers==4.21\n",
    "\n",
    "# *** UNCOMMENT AND RUN THIS TO PREVENT ERRORS LATER ***\n",
    "# *** RUN ONCE AND RESTART ENVIRONMENT (in runtime tab) THEN RUN THE REST ***"
   ]
  },
  {
   "cell_type": "code",
   "execution_count": 1,
   "metadata": {
    "colab": {
     "base_uri": "https://localhost:8080/"
    },
    "id": "c_oWik6-pcTv",
    "outputId": "518ce418-c1b5-4d33-b36d-6152f9444384"
   },
   "outputs": [
    {
     "name": "stderr",
     "output_type": "stream",
     "text": [
      "[nltk_data] Downloading package stopwords to\n",
      "[nltk_data]     C:\\Users\\hanli\\AppData\\Roaming\\nltk_data...\n",
      "[nltk_data]   Package stopwords is already up-to-date!\n",
      "[nltk_data] Downloading package wordnet to\n",
      "[nltk_data]     C:\\Users\\hanli\\AppData\\Roaming\\nltk_data...\n",
      "[nltk_data]   Package wordnet is already up-to-date!\n"
     ]
    }
   ],
   "source": [
    "# For Analysis\n",
    "\n",
    "# Dataset/Dataset operations\n",
    "import pandas as pd\n",
    "\n",
    "# Perform array operations. They're usually quicker than traditional Python array operations\n",
    "import numpy as np\n",
    "\n",
    "# Both for visualization. MPL creates nicer looking visualizers but seaborn might be a little\n",
    "# easier + can generate more informative visualizers like heatmaps\n",
    "import matplotlib.pyplot as plt\n",
    "import seaborn as sns\n",
    "\n",
    "# NLTK library for NLP\n",
    "import nltk\n",
    "\n",
    "# Comment the next two lines, i did this because I moved stuff to different drives\n",
    "# nltk.data.path = []\n",
    "# nltk.data.path.append(\"F:/nltk_data\")\n",
    "nltk.download('stopwords')\n",
    "nltk.download('wordnet')\n",
    "\n",
    "# Put dataset in pandas dataframe\n",
    "path = \"train.csv\"\n",
    "news = pd.read_csv(path)\n"
   ]
  },
  {
   "cell_type": "code",
   "execution_count": 2,
   "metadata": {
    "id": "4_CLzdHE1w26"
   },
   "outputs": [],
   "source": [
    "# read the test set\n",
    "test_df = pd.read_csv(\"test.csv\")"
   ]
  },
  {
   "cell_type": "code",
   "execution_count": 3,
   "metadata": {
    "id": "hP1rjfw5BIC2"
   },
   "outputs": [],
   "source": [
    "# For cleaning the dataset\n",
    "\n",
    "# Library for NLP\n",
    "from nltk.corpus import stopwords\n",
    "import re\n",
    "from nltk.stem.porter import PorterStemmer\n",
    "from collections import Counter"
   ]
  },
  {
   "cell_type": "code",
   "execution_count": 4,
   "metadata": {
    "colab": {
     "base_uri": "https://localhost:8080/",
     "height": 241
    },
    "id": "yNKHdVu0plvG",
    "jupyter": {
     "source_hidden": true
    },
    "outputId": "782fbffc-78df-41de-9796-1c9a8a023365"
   },
   "outputs": [
    {
     "name": "stdout",
     "output_type": "stream",
     "text": [
      "Shape of News data: (20800, 5)\n",
      "News data columns Index(['id', 'title', 'author', 'text', 'label'], dtype='object')\n"
     ]
    },
    {
     "data": {
      "text/html": [
       "<div>\n",
       "<style scoped>\n",
       "    .dataframe tbody tr th:only-of-type {\n",
       "        vertical-align: middle;\n",
       "    }\n",
       "\n",
       "    .dataframe tbody tr th {\n",
       "        vertical-align: top;\n",
       "    }\n",
       "\n",
       "    .dataframe thead th {\n",
       "        text-align: right;\n",
       "    }\n",
       "</style>\n",
       "<table border=\"1\" class=\"dataframe\">\n",
       "  <thead>\n",
       "    <tr style=\"text-align: right;\">\n",
       "      <th></th>\n",
       "      <th>id</th>\n",
       "      <th>title</th>\n",
       "      <th>author</th>\n",
       "      <th>text</th>\n",
       "      <th>label</th>\n",
       "    </tr>\n",
       "  </thead>\n",
       "  <tbody>\n",
       "    <tr>\n",
       "      <th>0</th>\n",
       "      <td>0</td>\n",
       "      <td>House Dem Aide: We Didn’t Even See Comey’s Let...</td>\n",
       "      <td>Darrell Lucus</td>\n",
       "      <td>House Dem Aide: We Didn’t Even See Comey’s Let...</td>\n",
       "      <td>1</td>\n",
       "    </tr>\n",
       "    <tr>\n",
       "      <th>1</th>\n",
       "      <td>1</td>\n",
       "      <td>FLYNN: Hillary Clinton, Big Woman on Campus - ...</td>\n",
       "      <td>Daniel J. Flynn</td>\n",
       "      <td>Ever get the feeling your life circles the rou...</td>\n",
       "      <td>0</td>\n",
       "    </tr>\n",
       "    <tr>\n",
       "      <th>2</th>\n",
       "      <td>2</td>\n",
       "      <td>Why the Truth Might Get You Fired</td>\n",
       "      <td>Consortiumnews.com</td>\n",
       "      <td>Why the Truth Might Get You Fired October 29, ...</td>\n",
       "      <td>1</td>\n",
       "    </tr>\n",
       "    <tr>\n",
       "      <th>3</th>\n",
       "      <td>3</td>\n",
       "      <td>15 Civilians Killed In Single US Airstrike Hav...</td>\n",
       "      <td>Jessica Purkiss</td>\n",
       "      <td>Videos 15 Civilians Killed In Single US Airstr...</td>\n",
       "      <td>1</td>\n",
       "    </tr>\n",
       "    <tr>\n",
       "      <th>4</th>\n",
       "      <td>4</td>\n",
       "      <td>Iranian woman jailed for fictional unpublished...</td>\n",
       "      <td>Howard Portnoy</td>\n",
       "      <td>Print \\nAn Iranian woman has been sentenced to...</td>\n",
       "      <td>1</td>\n",
       "    </tr>\n",
       "  </tbody>\n",
       "</table>\n",
       "</div>"
      ],
      "text/plain": [
       "   id                                              title              author  \\\n",
       "0   0  House Dem Aide: We Didn’t Even See Comey’s Let...       Darrell Lucus   \n",
       "1   1  FLYNN: Hillary Clinton, Big Woman on Campus - ...     Daniel J. Flynn   \n",
       "2   2                  Why the Truth Might Get You Fired  Consortiumnews.com   \n",
       "3   3  15 Civilians Killed In Single US Airstrike Hav...     Jessica Purkiss   \n",
       "4   4  Iranian woman jailed for fictional unpublished...      Howard Portnoy   \n",
       "\n",
       "                                                text  label  \n",
       "0  House Dem Aide: We Didn’t Even See Comey’s Let...      1  \n",
       "1  Ever get the feeling your life circles the rou...      0  \n",
       "2  Why the Truth Might Get You Fired October 29, ...      1  \n",
       "3  Videos 15 Civilians Killed In Single US Airstr...      1  \n",
       "4  Print \\nAn Iranian woman has been sentenced to...      1  "
      ]
     },
     "execution_count": 4,
     "metadata": {},
     "output_type": "execute_result"
    }
   ],
   "source": [
    "# Get some info on the df and print the first few entries\n",
    "print(\"Shape of News data:\", news.shape)\n",
    "print(\"News data columns\", news.columns)\n",
    "news.head()"
   ]
  },
  {
   "cell_type": "code",
   "execution_count": 5,
   "metadata": {
    "colab": {
     "base_uri": "https://localhost:8080/"
    },
    "id": "mJ3kf_7a9ft2",
    "jupyter": {
     "source_hidden": true
    },
    "outputId": "86e679a2-3927-4715-f873-218a9e0e00e2"
   },
   "outputs": [
    {
     "data": {
      "text/plain": [
       "count    20761.000000\n",
       "mean       760.308126\n",
       "std        869.525988\n",
       "min          0.000000\n",
       "25%        269.000000\n",
       "50%        556.000000\n",
       "75%       1052.000000\n",
       "max      24234.000000\n",
       "Name: text, dtype: float64"
      ]
     },
     "execution_count": 5,
     "metadata": {},
     "output_type": "execute_result"
    }
   ],
   "source": [
    "# Text Word stats\n",
    "\n",
    "txt_length = news.text.str.split().str.len()\n",
    "txt_length.describe()"
   ]
  },
  {
   "cell_type": "code",
   "execution_count": 6,
   "metadata": {
    "colab": {
     "base_uri": "https://localhost:8080/"
    },
    "id": "Xmp2b7sS-vVB",
    "jupyter": {
     "source_hidden": true
    },
    "outputId": "8a34a8f1-652d-41ff-e893-b6f5d70272cc"
   },
   "outputs": [
    {
     "data": {
      "text/plain": [
       "count    20242.000000\n",
       "mean        12.420709\n",
       "std          4.098735\n",
       "min          1.000000\n",
       "25%         10.000000\n",
       "50%         13.000000\n",
       "75%         15.000000\n",
       "max         72.000000\n",
       "Name: title, dtype: float64"
      ]
     },
     "execution_count": 6,
     "metadata": {},
     "output_type": "execute_result"
    }
   ],
   "source": [
    "# Title statistics\n",
    "\n",
    "title_length = news.title.str.split().str.len()\n",
    "title_length.describe()"
   ]
  },
  {
   "cell_type": "code",
   "execution_count": 7,
   "metadata": {
    "colab": {
     "base_uri": "https://localhost:8080/",
     "height": 640
    },
    "id": "Y1V8JT3u_cGC",
    "jupyter": {
     "source_hidden": true
    },
    "outputId": "50baca11-1420-488e-a17a-d21edf675d2e"
   },
   "outputs": [
    {
     "name": "stdout",
     "output_type": "stream",
     "text": [
      "0: Reliable\n",
      "1: Unreliable\n",
      "Distribution of labels:\n",
      "label\n",
      "1    10413\n",
      "0    10387\n",
      "Name: count, dtype: int64\n",
      "label\n",
      "1    50.0\n",
      "0    50.0\n",
      "Name: proportion, dtype: float64\n"
     ]
    },
    {
     "data": {
      "image/png": "[encoded data removed]",
      "text/plain": [
       "<Figure size 640x480 with 1 Axes>"
      ]
     },
     "metadata": {},
     "output_type": "display_data"
    }
   ],
   "source": [
    "# We want to visualize some data now.\n",
    "# This dataset has articles labeled both reliable/unreliable.\n",
    "# Graphing the data shows this is a balanced dataset.\n",
    "\n",
    "sns.countplot(x=\"label\", data=news);\n",
    "print(\"0: Reliable\")\n",
    "print(\"1: Unreliable\")\n",
    "print(\"Distribution of labels:\")\n",
    "print(news.label.value_counts());\n",
    "\n",
    "# Also reinforces that this is balanced\n",
    "print(round(news.label.value_counts(normalize=True), 2) * 100);"
   ]
  },
  {
   "cell_type": "markdown",
   "metadata": {
    "id": "4x4Y4n_PAmfv"
   },
   "source": [
    "# **Data Cleaning for Analysis**\n",
    "### Datasets often have unuseful data that won't help our model. Getting rid of this data ensures that our model has the highest level of accuracy."
   ]
  },
  {
   "cell_type": "code",
   "execution_count": 8,
   "metadata": {
    "id": "omh_a9bBA1D2"
   },
   "outputs": [],
   "source": [
    "# Constants that are used to sanitize the datasets\n",
    "\n",
    "column_n = ['id', 'title', 'author', 'text', 'label']\n",
    "remove_c = ['id','author']\n",
    "categorical_features = []\n",
    "target_col = ['label']\n",
    "text_f = ['title', 'text']"
   ]
  },
  {
   "cell_type": "code",
   "execution_count": 9,
   "metadata": {
    "id": "BmX1qOJ2B6FM"
   },
   "outputs": [],
   "source": [
    "# Cleaning time!!!\n",
    "\n",
    "ps = PorterStemmer()\n",
    "wnl = nltk.stem.WordNetLemmatizer()\n",
    "\n",
    "stop_words = stopwords.words('english')\n",
    "stopwords_dict = Counter(stop_words)\n",
    "\n",
    "# Removed unused columns\n",
    "def remove_unused_c(df,column_n=remove_c):\n",
    "    df = df.drop(column_n,axis=1)\n",
    "    return df\n",
    "\n",
    "# Impute null values with None\n",
    "def null_process(feature_df):\n",
    "    for col in text_f:\n",
    "        feature_df.loc[feature_df[col].isnull(), col] = \"None\"\n",
    "    return feature_df\n",
    "\n",
    "def clean_dataset(df):\n",
    "    # remove unused column\n",
    "    df = remove_unused_c(df)\n",
    "    #impute null values\n",
    "    df = null_process(df)\n",
    "    return df\n",
    "\n",
    "# Cleaning text from unused characters\n",
    "def clean_text(text):\n",
    "    text = str(text).replace(r'http[\\w:/\\.]+', ' ')  # removing urls\n",
    "    text = str(text).replace(r'[^\\.\\w\\s]', ' ')  # remove everything but characters and punctuation\n",
    "    text = str(text).replace('[^a-zA-Z]', ' ')\n",
    "    text = str(text).replace(r'\\s\\s+', ' ')\n",
    "    text = text.lower().strip()\n",
    "    #text = ' '.join(text)\n",
    "    return text\n",
    "\n",
    "## Nltk Preprocessing include:\n",
    "# Stop words, Stemming and Lemmetization\n",
    "# For our project we use only Stop word removal\n",
    "def nltk_preprocess(text):\n",
    "    text = clean_text(text)\n",
    "    wordlist = re.sub(r'[^\\w\\s]', '', text).split()\n",
    "    #text = ' '.join([word for word in wordlist if word not in stopwords_dict])\n",
    "    #text = [ps.stem(word) for word in wordlist if not word in stopwords_dict]\n",
    "    text = ' '.join([wnl.lemmatize(word) for word in wordlist if word not in stopwords_dict])\n",
    "    return  text"
   ]
  },
  {
   "cell_type": "code",
   "execution_count": 10,
   "metadata": {
    "id": "9lCUQDN_DMiF"
   },
   "outputs": [],
   "source": [
    "# Perform data cleaning on train and test dataset by calling clean_dataset function\n",
    "df = clean_dataset(news)\n",
    "# apply preprocessing on text through apply method by calling the function nltk_preprocess\n",
    "df[\"text\"] = df.text.apply(nltk_preprocess)\n",
    "# apply preprocessing on title through apply method by calling the function nltk_preprocess\n",
    "df[\"title\"] = df.title.apply(nltk_preprocess)\n",
    "\n",
    "# Do the same thing for the test.csv set\n",
    "df2 = clean_dataset(test_df)\n",
    "# apply preprocessing on text through apply method by calling the function nltk_preprocess\n",
    "df2[\"text\"] = test_df.text.apply(nltk_preprocess)\n",
    "# apply preprocessing on title through apply method by calling the function nltk_preprocess\n",
    "df2[\"title\"] = test_df.title.apply(nltk_preprocess)"
   ]
  },
  {
   "cell_type": "code",
   "execution_count": 11,
   "metadata": {
    "colab": {
     "base_uri": "https://localhost:8080/",
     "height": 206
    },
    "id": "GclUdNroHPVm",
    "jupyter": {
     "source_hidden": true
    },
    "outputId": "133dabf8-d69a-47e1-8a42-c842df9b2d45",
    "scrolled": true
   },
   "outputs": [
    {
     "data": {
      "text/html": [
       "<div>\n",
       "<style scoped>\n",
       "    .dataframe tbody tr th:only-of-type {\n",
       "        vertical-align: middle;\n",
       "    }\n",
       "\n",
       "    .dataframe tbody tr th {\n",
       "        vertical-align: top;\n",
       "    }\n",
       "\n",
       "    .dataframe thead th {\n",
       "        text-align: right;\n",
       "    }\n",
       "</style>\n",
       "<table border=\"1\" class=\"dataframe\">\n",
       "  <thead>\n",
       "    <tr style=\"text-align: right;\">\n",
       "      <th></th>\n",
       "      <th>title</th>\n",
       "      <th>text</th>\n",
       "      <th>label</th>\n",
       "    </tr>\n",
       "  </thead>\n",
       "  <tbody>\n",
       "    <tr>\n",
       "      <th>0</th>\n",
       "      <td>house dem aide didnt even see comeys letter ja...</td>\n",
       "      <td>house dem aide didnt even see comeys letter ja...</td>\n",
       "      <td>1</td>\n",
       "    </tr>\n",
       "    <tr>\n",
       "      <th>1</th>\n",
       "      <td>flynn hillary clinton big woman campus breitbart</td>\n",
       "      <td>ever get feeling life circle roundabout rather...</td>\n",
       "      <td>0</td>\n",
       "    </tr>\n",
       "    <tr>\n",
       "      <th>2</th>\n",
       "      <td>truth might get fired</td>\n",
       "      <td>truth might get fired october 29 2016 tension ...</td>\n",
       "      <td>1</td>\n",
       "    </tr>\n",
       "    <tr>\n",
       "      <th>3</th>\n",
       "      <td>15 civilian killed single u airstrike identified</td>\n",
       "      <td>video 15 civilian killed single u airstrike id...</td>\n",
       "      <td>1</td>\n",
       "    </tr>\n",
       "    <tr>\n",
       "      <th>4</th>\n",
       "      <td>iranian woman jailed fictional unpublished sto...</td>\n",
       "      <td>print iranian woman sentenced six year prison ...</td>\n",
       "      <td>1</td>\n",
       "    </tr>\n",
       "  </tbody>\n",
       "</table>\n",
       "</div>"
      ],
      "text/plain": [
       "                                               title  \\\n",
       "0  house dem aide didnt even see comeys letter ja...   \n",
       "1   flynn hillary clinton big woman campus breitbart   \n",
       "2                              truth might get fired   \n",
       "3   15 civilian killed single u airstrike identified   \n",
       "4  iranian woman jailed fictional unpublished sto...   \n",
       "\n",
       "                                                text  label  \n",
       "0  house dem aide didnt even see comeys letter ja...      1  \n",
       "1  ever get feeling life circle roundabout rather...      0  \n",
       "2  truth might get fired october 29 2016 tension ...      1  \n",
       "3  video 15 civilian killed single u airstrike id...      1  \n",
       "4  print iranian woman sentenced six year prison ...      1  "
      ]
     },
     "execution_count": 11,
     "metadata": {},
     "output_type": "execute_result"
    }
   ],
   "source": [
    "df.head()"
   ]
  },
  {
   "cell_type": "markdown",
   "metadata": {
    "id": "TKaYErYFHTuq"
   },
   "source": [
    "# Explorative Data Analysis"
   ]
  },
  {
   "cell_type": "code",
   "execution_count": 12,
   "metadata": {
    "colab": {
     "base_uri": "https://localhost:8080/",
     "height": 1000
    },
    "id": "yEfhaoOsHcxZ",
    "outputId": "d558e640-8cee-47e4-988a-9f3f7f9deff4"
   },
   "outputs": [],
   "source": [
    "# # Single-word Cloud\n",
    "# from wordcloud import WordCloud, STOPWORDS\n",
    "\n",
    "# # initialize the word cloud\n",
    "# wordcloud = WordCloud( background_color='black', width=800, height=600)\n",
    "# # generate the word cloud by passing the corpus\n",
    "# text_cloud = wordcloud.generate(' '.join(df['text']))\n",
    "# # plotting the word cloud\n",
    "# plt.figure(figsize=(20,30))\n",
    "# plt.imshow(text_cloud)\n",
    "# plt.axis('off')\n",
    "# plt.show()"
   ]
  },
  {
   "cell_type": "code",
   "execution_count": 13,
   "metadata": {
    "colab": {
     "base_uri": "https://localhost:8080/",
     "height": 1000
    },
    "id": "J0HKFlmfH-n-",
    "jupyter": {
     "source_hidden": true
    },
    "outputId": "4b7f37e0-2835-4b86-a87e-795c47484a77"
   },
   "outputs": [],
   "source": [
    "# true_n = ' '.join(df[df['label']==0]['text'])\n",
    "# wc = wordcloud.generate(true_n)\n",
    "# plt.figure(figsize=(20,30))\n",
    "# plt.imshow(wc)\n",
    "# plt.axis('off')\n",
    "# plt.show()"
   ]
  },
  {
   "cell_type": "code",
   "execution_count": 14,
   "metadata": {
    "colab": {
     "base_uri": "https://localhost:8080/",
     "height": 1000
    },
    "id": "Wuz_Hs8nIDAd",
    "jupyter": {
     "source_hidden": true
    },
    "outputId": "e41d13c1-9c6a-42a5-d0bb-5b64183681db"
   },
   "outputs": [],
   "source": [
    "# fake_n = ' '.join(df[df['label']==1]['text'])\n",
    "# wc= wordcloud.generate(fake_n)\n",
    "# plt.figure(figsize=(20,30))\n",
    "# plt.imshow(wc)\n",
    "# plt.axis('off')\n",
    "# plt.show()"
   ]
  },
  {
   "cell_type": "markdown",
   "metadata": {
    "id": "gH110FGmIIGI"
   },
   "source": [
    "# Most Frequent Bigram (Two-word Combinations)"
   ]
  },
  {
   "cell_type": "code",
   "execution_count": 15,
   "metadata": {
    "id": "WkOaZ5lZINfF",
    "jupyter": {
     "source_hidden": true
    }
   },
   "outputs": [],
   "source": [
    "# def plot_top_ngrams(corpus, title, ylabel, xlabel=\"Number of Occurences\", n=2):\n",
    "#   \"\"\"Utility function to plot top n-grams\"\"\"\n",
    "#   true_b = (pd.Series(nltk.ngrams(corpus.split(), n)).value_counts())[:20]\n",
    "#   true_b.sort_values().plot.barh(color='blue', width=.9, figsize=(12, 8))\n",
    "#   plt.title(title)\n",
    "#   plt.ylabel(ylabel)\n",
    "#   plt.xlabel(xlabel)\n",
    "#   plt.show()"
   ]
  },
  {
   "cell_type": "code",
   "execution_count": 16,
   "metadata": {
    "colab": {
     "base_uri": "https://localhost:8080/",
     "height": 718
    },
    "id": "VDejRQb2IRPy",
    "outputId": "353a9f77-0dce-4739-b7ad-c48038b835fd"
   },
   "outputs": [],
   "source": [
    "# # For reliable news\n",
    "# plot_top_ngrams(true_n, 'Top 20 Frequently Occuring True news Bigrams', \"Bigram\", n=2)"
   ]
  },
  {
   "cell_type": "code",
   "execution_count": 17,
   "metadata": {
    "colab": {
     "base_uri": "https://localhost:8080/",
     "height": 718
    },
    "id": "1VmCBrAKIW-n",
    "jupyter": {
     "source_hidden": true
    },
    "outputId": "e34bae3f-ebea-4b22-b691-556271d1cfdd"
   },
   "outputs": [],
   "source": [
    "# # For fake news\n",
    "# plot_top_ngrams(fake_n, 'Top 20 Frequently Occuring Fake news Bigrams', \"Bigram\", n=2)"
   ]
  },
  {
   "cell_type": "markdown",
   "metadata": {
    "id": "d2-vW1BaIkl9"
   },
   "source": [
    "# Most Frequent Trigram (Three-word combination)"
   ]
  },
  {
   "cell_type": "code",
   "execution_count": 18,
   "metadata": {
    "colab": {
     "base_uri": "https://localhost:8080/",
     "height": 718
    },
    "id": "19aiGrNNIqjo",
    "outputId": "39009c3c-4a08-48a9-db64-30b0b7936a80"
   },
   "outputs": [],
   "source": [
    "# plot_top_ngrams(true_n, 'Top 20 Frequently Occuring True news Trigrams', \"Trigrams\", n=3)"
   ]
  },
  {
   "cell_type": "code",
   "execution_count": 19,
   "metadata": {
    "colab": {
     "base_uri": "https://localhost:8080/",
     "height": 718
    },
    "id": "j-sVEXO7IwRe",
    "outputId": "5f6973ad-ee41-4c66-c545-1df90477f846"
   },
   "outputs": [],
   "source": [
    "# plot_top_ngrams(fake_n, 'Top 20 Frequently Occuring Fake news Trigrams', \"Trigrams\", n=3)"
   ]
  },
  {
   "cell_type": "markdown",
   "metadata": {
    "id": "GRaaQ8AQI0e_"
   },
   "source": [
    "# BERT Classifier"
   ]
  },
  {
   "cell_type": "code",
   "execution_count": 20,
   "metadata": {
    "id": "UTJkTgIPI2Rb",
    "outputId": "62156a6d-ece2-4792-89df-b82b760ce398",
    "scrolled": true
   },
   "outputs": [],
   "source": [
    "import torch\n",
    "import transformers\n",
    "# from transformers.file_utils import is_tf_available, is_torch_available, is_torch_tpu_available\n",
    "from transformers import BertTokenizerFast, BertForSequenceClassification, BertModel, BertTokenizer\n",
    "from transformers import Trainer, TrainingArguments\n",
    "import numpy as np\n",
    "from sklearn.model_selection import train_test_split\n",
    "\n",
    "import random"
   ]
  },
  {
   "cell_type": "markdown",
   "metadata": {
    "id": "X8jVL7Ti1w2_"
   },
   "source": [
    "### BERT Topic Model Visualization"
   ]
  },
  {
   "cell_type": "code",
   "execution_count": 21,
   "metadata": {
    "id": "Nv2saSSw1w2_",
    "scrolled": true
   },
   "outputs": [],
   "source": [
    "texts = df[df['label'] == 0]['text'].reset_index(drop=True)\n"
   ]
  },
  {
   "cell_type": "code",
   "execution_count": 22,
   "metadata": {
    "id": "Yho2nMZU1w2_",
    "outputId": "648f826e-ce32-42fb-9269-02762917264c"
   },
   "outputs": [
    {
     "name": "stderr",
     "output_type": "stream",
     "text": [
      "C:\\Users\\hanli\\AppData\\Local\\Programs\\Python\\Python311\\Lib\\site-packages\\transformers\\models\\bert\\modeling_bert.py:435: UserWarning: 1Torch was not compiled with flash attention. (Triggered internally at ..\\aten\\src\\ATen\\native\\transformers\\cuda\\sdp_utils.cpp:455.)\n",
      "  attn_output = torch.nn.functional.scaled_dot_product_attention(\n"
     ]
    }
   ],
   "source": [
    "# Load pre-trained BERT model and tokenizer\n",
    "tokenize = BertTokenizer.from_pretrained('bert-base-uncased')\n",
    "mod = BertModel.from_pretrained('bert-base-uncased')\n",
    "\n",
    "device = torch.device('cuda')\n",
    "mod.to(device)\n",
    "\n",
    "# Function to get BERT embeddings for a list of texts\n",
    "def get_bert_embeddings(texts):\n",
    "    embeddings = []\n",
    "    for text in texts:\n",
    "        inputs = tokenize(text, return_tensors='pt', truncation=True, padding=True, max_length=512).to(device)\n",
    "        outputs = mod(**inputs)\n",
    "        embeddings.append(outputs.last_hidden_state.mean(dim=1).squeeze().detach().cpu().numpy())\n",
    "    return embeddings\n",
    "\n",
    "# Generate embeddings\n",
    "\n",
    "embeddings = get_bert_embeddings(texts)"
   ]
  },
  {
   "cell_type": "code",
   "execution_count": 23,
   "metadata": {
    "id": "WGguUWGS1w2_",
    "outputId": "bff0d8d9-6626-4167-f534-9ba8a3d3a4da"
   },
   "outputs": [
    {
     "name": "stderr",
     "output_type": "stream",
     "text": [
      "C:\\Users\\hanli\\AppData\\Local\\Programs\\Python\\Python311\\Lib\\site-packages\\umap\\umap_.py:1945: UserWarning: n_jobs value 1 overridden to 1 by setting random_state. Use no seed for parallelism.\n",
      "  warn(f\"n_jobs value {self.n_jobs} overridden to 1 by setting random_state. Use no seed for parallelism.\")\n"
     ]
    }
   ],
   "source": [
    "import umap\n",
    "import numpy as np\n",
    "\n",
    "# Convert embeddings to a numpy array\n",
    "embeddings = np.array(embeddings)\n",
    "\n",
    "# Reduce dimensionality using UMAP\n",
    "umap_model = umap.UMAP(n_neighbors=15, min_dist=0.1, n_components=2, random_state=42)\n",
    "umap_embeddings = umap_model.fit_transform(embeddings)"
   ]
  },
  {
   "cell_type": "code",
   "execution_count": 24,
   "metadata": {
    "id": "w6L83_QJ1w2_"
   },
   "outputs": [],
   "source": [
    "from sklearn.cluster import KMeans\n",
    "\n",
    "# Perform K-Means clustering\n",
    "num_clusters = 10  # Adjust the number of clusters as needed\n",
    "kmeans = KMeans(n_clusters=num_clusters, random_state=42)\n",
    "clusters = kmeans.fit_predict(umap_embeddings)"
   ]
  },
  {
   "cell_type": "code",
   "execution_count": 25,
   "metadata": {
    "id": "AUjRBOD51w2_",
    "outputId": "b02ee8ef-0952-4085-e774-ddb6bdf20f22"
   },
   "outputs": [],
   "source": [
    "import matplotlib.pyplot as plt\n",
    "\n",
    "# Create a scatter plot\n",
    "# plt.figure(figsize=(10, 8))\n",
    "# plt.scatter(umap_embeddings[:, 0], umap_embeddings[:, 1], c=clusters, cmap='Spectral', s=5)\n",
    "# plt.colorbar()\n",
    "# plt.title('BERT Topic Model Visualization')\n",
    "# plt.xlabel('UMAP Dimension 1')\n",
    "# plt.ylabel('UMAP Dimension 2')\n",
    "# plt.show()"
   ]
  },
  {
   "cell_type": "code",
   "execution_count": 26,
   "metadata": {
    "id": "rkvPBBSG1w2_",
    "outputId": "0713a3c0-ec5c-40dd-f9ac-b2e43fdf548a"
   },
   "outputs": [
    {
     "name": "stdout",
     "output_type": "stream",
     "text": [
      "Cluster 0: trump, said, president, house, news, people, twitter, donald, would, follow, think, time, state, republican, mr, one, going, new, american, white\n",
      "Cluster 1: mr, trump, said, would, president, republican, clinton, state, people, one, new, campaign, year, time, house, also, like, american, could, m\n",
      "Cluster 2: said, year, one, game, team, dr, time, like, would, first, new, two, also, mr, people, could, state, player, last, many\n",
      "Cluster 3: said, police, state, one, year, people, attack, also, breitbart, mr, texas, u, two, reported, country, time, new, would, officer, report\n",
      "Cluster 4: mr, said, state, united, government, president, would, trump, american, one, year, people, official, country, attack, military, also, china, new, group\n",
      "Cluster 5: _____, briefing, mr, trump, said, 6, want, here, u, new, posted, one, eastern, year, like, evening, state, people, president, last\n",
      "Cluster 6: said, mr, one, year, people, would, state, new, police, time, m, like, officer, two, city, also, day, many, could, family\n",
      "Cluster 7: said, trump, twitter, news, new, year, also, president, one, people, would, u, follow, state, time, breitbart, 2017, first, million, like\n",
      "Cluster 8: said, mr, one, like, year, new, time, m, would, people, company, also, work, first, show, make, could, way, even, day\n",
      "Cluster 9: said, mr, trump, state, president, would, people, one, country, new, united, court, year, law, u, american, also, right, immigration, news\n"
     ]
    }
   ],
   "source": [
    "from collections import Counter\n",
    "\n",
    "# Function to get the most common words in a cluster\n",
    "def get_top_words(cluster_texts, top_n=20):\n",
    "    all_words = ' '.join(cluster_texts).split()\n",
    "    most_common_words = Counter(all_words).most_common(top_n)\n",
    "    return [word for word, count in most_common_words]\n",
    "\n",
    "# Group texts by clusters\n",
    "cluster_texts = {i: [] for i in range(num_clusters)}\n",
    "for i, cluster in enumerate(clusters):\n",
    "    cluster_texts[cluster].append(texts[i])\n",
    "\n",
    "# Get top words for each cluster\n",
    "cluster_labels = {i: get_top_words(cluster_texts[i]) for i in range(num_clusters)}\n",
    "\n",
    "# Print cluster labels\n",
    "for cluster, words in cluster_labels.items():\n",
    "    print(f'Cluster {cluster}: {\", \".join(words)}')\n"
   ]
  },
  {
   "cell_type": "markdown",
   "metadata": {
    "id": "KRCgYH0zTpp-"
   },
   "source": [
    "# Prepare our data for processing"
   ]
  },
  {
   "cell_type": "code",
   "execution_count": 27,
   "metadata": {
    "id": "ZsQLHIm0Tnh8"
   },
   "outputs": [],
   "source": [
    "# The model we gonna train, base uncased BERT\n",
    "# check text classification models here: https://huggingface.co/models?filter=text-classification\n",
    "# Base model has 12 layers (transformer blocks), 768 hidden units per layer, 12 attention heads\n",
    "# \"Uncased\" means it does not care about upper or lower case, everything is lowercase\n",
    "model_name = \"bert-base-uncased\"\n",
    "\n",
    "# max sequence length for each document/sentence sample\n",
    "max_length = 512"
   ]
  },
  {
   "cell_type": "code",
   "execution_count": 28,
   "metadata": {
    "id": "7RJW1sBYTpO8",
    "outputId": "2ee37dd7-99cd-4166-c4da-8f96b8a72a78"
   },
   "outputs": [
    {
     "name": "stderr",
     "output_type": "stream",
     "text": [
      "C:\\Users\\hanli\\AppData\\Local\\Temp\\ipykernel_11096\\3260285282.py:8: UserWarning: Boolean Series key will be reindexed to match DataFrame index.\n",
      "  test = test[test_df[\"author\"].notna()]\n",
      "C:\\Users\\hanli\\AppData\\Local\\Temp\\ipykernel_11096\\3260285282.py:9: UserWarning: Boolean Series key will be reindexed to match DataFrame index.\n",
      "  test = test[test_df[\"title\"].notna()]\n"
     ]
    }
   ],
   "source": [
    "# We want to get rid of all the null values, these can negatively affect our accuracy\n",
    "\n",
    "news_df = news[news['text'].notna()]\n",
    "news_df = news_df[news_df[\"author\"].notna()]\n",
    "news_df = news_df[news_df[\"title\"].notna()]\n",
    "\n",
    "test = test_df[test_df['text'].notna()]\n",
    "test = test[test_df[\"author\"].notna()]\n",
    "test = test[test_df[\"title\"].notna()]"
   ]
  },
  {
   "cell_type": "code",
   "execution_count": 29,
   "metadata": {
    "id": "mqDso-o0UKqy"
   },
   "outputs": [],
   "source": [
    "# \"Next, making a function that takes the dataset as a Pandas dataframe and returns the\n",
    "# train/validation splits of texts and labels as lists:\"\n",
    "\n",
    "def prepare_data(df, test_size=0.2, include_title=True, include_author=True):\n",
    "  texts = []\n",
    "  labels = []\n",
    "  for i in range(len(df)):\n",
    "    text = df[\"text\"].iloc[i]\n",
    "    label = df[\"label\"].iloc[i]\n",
    "    if include_title:\n",
    "      text = df[\"title\"].iloc[i] + \" - \" + text\n",
    "    if include_author:\n",
    "      text = df[\"author\"].iloc[i] + \" : \" + text\n",
    "    if text and label in [0, 1]:\n",
    "      texts.append(text)\n",
    "      labels.append(label)\n",
    "  return train_test_split(texts, labels, test_size=test_size)\n",
    "\n",
    "\n",
    "train_texts, valid_texts, train_labels, valid_labels = prepare_data(news_df)\n",
    "# train_texts2, test_texts, train_labels2, test_labels = prepare_data(test)\n"
   ]
  },
  {
   "cell_type": "code",
   "execution_count": 30,
   "metadata": {
    "colab": {
     "base_uri": "https://localhost:8080/"
    },
    "id": "vQdPcx9EUT5i",
    "outputId": "356742e1-d466-4b5e-f52f-90f22e44af71",
    "scrolled": true
   },
   "outputs": [
    {
     "name": "stdout",
     "output_type": "stream",
     "text": [
      "14628 14628\n",
      "3657 3657\n",
      "[0, 1, 0, 0, 0, 0, 0, 1, 1, 1]\n"
     ]
    }
   ],
   "source": [
    "# Ensure labels and texts have equal length\n",
    "\n",
    "# train_texts = train_texts[:1000]\n",
    "# train_labels = train_labels[:1000]\n",
    "\n",
    "print(len(train_texts), len(train_labels))\n",
    "print(len(valid_texts), len(valid_labels))\n",
    "print(train_labels[:10])"
   ]
  },
  {
   "cell_type": "markdown",
   "metadata": {
    "id": "YZVJsPirUYD8"
   },
   "source": [
    "# Tokenizing the Dataset"
   ]
  },
  {
   "cell_type": "code",
   "execution_count": 31,
   "metadata": {
    "id": "3VsziCn5YqwI",
    "outputId": "046b77fb-56df-471d-e787-f0f1278ce944"
   },
   "outputs": [],
   "source": [
    "# load the tokenizer\n",
    "tokenizer = BertTokenizerFast.from_pretrained(model_name, do_lower_case=True)"
   ]
  },
  {
   "cell_type": "code",
   "execution_count": 94,
   "metadata": {
    "id": "bpCuttysUZhn"
   },
   "outputs": [],
   "source": [
    "# tokenize the dataset, truncate when passed `max_length`,\n",
    "# and pad with 0's when less than `max_length`\n",
    "train_encodings = tokenizer(train_texts, truncation=True, padding=True, max_length=max_length)\n",
    "valid_encodings = tokenizer(valid_texts, truncation=True, padding=True, max_length=max_length)"
   ]
  },
  {
   "cell_type": "code",
   "execution_count": 95,
   "metadata": {
    "id": "kq4YVUXcWJim"
   },
   "outputs": [],
   "source": [
    "# Convert to PyTorch Dataset\n",
    "\n",
    "class NewsGroupsDataset(torch.utils.data.Dataset):\n",
    "    def __init__(self, encodings, labels):\n",
    "        self.encodings = encodings\n",
    "        self.labels = labels\n",
    "\n",
    "    def __getitem__(self, idx):\n",
    "        item = {k: torch.tensor(v[idx]) for k, v in self.encodings.items()}\n",
    "        item[\"labels\"] = torch.tensor([self.labels[idx]])\n",
    "        return item\n",
    "\n",
    "    def __len__(self):\n",
    "        return len(self.labels)\n",
    "\n",
    "# convert our tokenized data into a torch Dataset\n",
    "train_dataset = NewsGroupsDataset(train_encodings, train_labels)\n",
    "valid_dataset = NewsGroupsDataset(valid_encodings, valid_labels)"
   ]
  },
  {
   "cell_type": "code",
   "execution_count": 96,
   "metadata": {},
   "outputs": [
    {
     "name": "stdout",
     "output_type": "stream",
     "text": [
      "14628\n"
     ]
    }
   ],
   "source": [
    "print(len(train_dataset))"
   ]
  },
  {
   "cell_type": "code",
   "execution_count": 97,
   "metadata": {},
   "outputs": [],
   "source": [
    "from torch.utils.data import random_split\n",
    "\n",
    "# sample amount wanted to train\n",
    "sample_amount = 10000\n",
    "\n",
    "train_len = len(train_dataset)\n",
    "\n",
    "# need this so that it can split the total dataset into the splits you want and you just take one of the splits to train\n",
    "remaining = train_len - sample_amount\n",
    "\n",
    "lengths = [sample_amount, remaining]\n",
    "\n",
    "train_dataset, remaining_dataset = random_split(train_dataset, lengths)"
   ]
  },
  {
   "cell_type": "code",
   "execution_count": 98,
   "metadata": {},
   "outputs": [
    {
     "name": "stdout",
     "output_type": "stream",
     "text": [
      "10000\n",
      "4628\n"
     ]
    }
   ],
   "source": [
    "print(len(train_dataset))\n",
    "print(len(remaining_dataset))"
   ]
  },
  {
   "cell_type": "markdown",
   "metadata": {
    "id": "4DSTf3qYY2qF"
   },
   "source": [
    "# Load and Fine-Tune Model"
   ]
  },
  {
   "cell_type": "code",
   "execution_count": 99,
   "metadata": {
    "colab": {
     "base_uri": "https://localhost:8080/"
    },
    "id": "i9VZ-9o2Y2dv",
    "outputId": "df3ad245-446b-4780-e8f9-1d5cd9daf843",
    "scrolled": true
   },
   "outputs": [
    {
     "name": "stderr",
     "output_type": "stream",
     "text": [
      "Some weights of BertForSequenceClassification were not initialized from the model checkpoint at bert-base-uncased and are newly initialized: ['classifier.bias', 'classifier.weight']\n",
      "You should probably TRAIN this model on a down-stream task to be able to use it for predictions and inference.\n"
     ]
    }
   ],
   "source": [
    "# load the model (if doing it for first time and you don't have trained model files\n",
    "model = BertForSequenceClassification.from_pretrained(model_name, num_labels=2)"
   ]
  },
  {
   "cell_type": "code",
   "execution_count": 38,
   "metadata": {
    "id": "bZhC0e9w1w3E"
   },
   "outputs": [],
   "source": [
    "# OR if model was already trained\n",
    "# Load the model configuration\n",
    "# model_config = f'./results/checkpoint-4600'\n",
    "\n",
    "# model = BertForSequenceClassification.from_pretrained(model_config, num_labels=2)\n"
   ]
  },
  {
   "cell_type": "code",
   "execution_count": 100,
   "metadata": {
    "editable": true,
    "id": "Egc3x6hpY6zc",
    "slideshow": {
     "slide_type": ""
    },
    "tags": []
   },
   "outputs": [],
   "source": [
    "# Calculating the accuracy using sklearn's function\n",
    "from sklearn.metrics import accuracy_score\n",
    "\n",
    "from sklearn.metrics import accuracy_score, precision_score, f1_score, roc_auc_score, roc_curve\n",
    "\n",
    "def compute_metrics(pred):\n",
    "    labels = pred.label_ids\n",
    "    preds = pred.predictions.argmax(-1)\n",
    "    probs = pred.predictions[:, 1]  # Assuming binary classification and the second column gives the probability for class 1\n",
    "\n",
    "    # Calculate accuracy\n",
    "    acc = accuracy_score(labels, preds)\n",
    "\n",
    "    # Calculate precision\n",
    "    precision = precision_score(labels, preds, average='binary', zero_division=0)\n",
    "\n",
    "    # Calculate F1 score\n",
    "    f1 = f1_score(labels, preds, average='binary', zero_division=0)\n",
    "\n",
    "    # Calculate AUROC\n",
    "    auroc = roc_auc_score(labels, probs)\n",
    "\n",
    "    # Calculate ROC curve\n",
    "    fpr, tpr, _ = roc_curve(labels, probs)\n",
    "    roc = {\"fpr\": fpr.tolist(), \"tpr\": tpr.tolist()}\n",
    "\n",
    "    return {\n",
    "        'acc': acc,\n",
    "        'prec': precision,\n",
    "        'f1': f1,\n",
    "        'auroc': auroc,\n",
    "    }"
   ]
  },
  {
   "cell_type": "code",
   "execution_count": 101,
   "metadata": {
    "id": "imjKEpuBY7vl"
   },
   "outputs": [],
   "source": [
    "training_args = TrainingArguments(\n",
    "    output_dir='./checkpoints',          # output directory (where the checkpoints go, if you decide to train plz use a drive with a lot of storage)\n",
    "    num_train_epochs=1,              # total number of training epochs\n",
    "    per_device_train_batch_size=5,  # batch size per device during training\n",
    "    per_device_eval_batch_size=5,   # batch size for evaluation\n",
    "    warmup_steps=100,                # number of warmup steps for learning rate scheduler\n",
    "    logging_dir='./logs',            # directory for storing logs\n",
    "    load_best_model_at_end=True,     # load the best model when finished training (default metric is loss)\n",
    "    # but you can specify `metric_for_best_model` argument to change to accuracy or other metric\n",
    "    logging_steps=200,               # log & save weights each logging_steps\n",
    "    save_steps=200,\n",
    "    eval_strategy=\"steps\",     # evaluate each `logging_steps`\n",
    "    learning_rate=5e-5,\n",
    ")"
   ]
  },
  {
   "cell_type": "code",
   "execution_count": 102,
   "metadata": {
    "id": "q5k-EhMVY_tR"
   },
   "outputs": [],
   "source": [
    "# CUT TRAINING DATA SET IN HALF AND THEN TRAIN\n",
    "\n",
    "trainer = Trainer(\n",
    "    model=model,                         # the instantiated Transformers model to be trained\n",
    "    args=training_args,                  # training arguments, defined above\n",
    "    train_dataset=train_dataset,         # training dataset\n",
    "    eval_dataset=valid_dataset,          # evaluation dataset\n",
    "    compute_metrics=compute_metrics,     # the callback that computes metrics of interest\n",
    ")"
   ]
  },
  {
   "cell_type": "code",
   "execution_count": 103,
   "metadata": {},
   "outputs": [
    {
     "data": {
      "text/html": [
       "\n",
       "    <div>\n",
       "      \n",
       "      <progress value='2000' max='2000' style='width:300px; height:20px; vertical-align: middle;'></progress>\n",
       "      [2000/2000 15:29, Epoch 1/1]\n",
       "    </div>\n",
       "    <table border=\"1\" class=\"dataframe\">\n",
       "  <thead>\n",
       " <tr style=\"text-align: left;\">\n",
       "      <th>Step</th>\n",
       "      <th>Training Loss</th>\n",
       "      <th>Validation Loss</th>\n",
       "      <th>Acc</th>\n",
       "      <th>Prec</th>\n",
       "      <th>F1</th>\n",
       "      <th>Auroc</th>\n",
       "    </tr>\n",
       "  </thead>\n",
       "  <tbody>\n",
       "    <tr>\n",
       "      <td>200</td>\n",
       "      <td>0.295200</td>\n",
       "      <td>0.041633</td>\n",
       "      <td>0.992343</td>\n",
       "      <td>0.999344</td>\n",
       "      <td>0.990891</td>\n",
       "      <td>0.999911</td>\n",
       "    </tr>\n",
       "    <tr>\n",
       "      <td>400</td>\n",
       "      <td>0.039200</td>\n",
       "      <td>0.011711</td>\n",
       "      <td>0.997812</td>\n",
       "      <td>0.997419</td>\n",
       "      <td>0.997419</td>\n",
       "      <td>0.999931</td>\n",
       "    </tr>\n",
       "    <tr>\n",
       "      <td>600</td>\n",
       "      <td>0.054800</td>\n",
       "      <td>0.063095</td>\n",
       "      <td>0.985234</td>\n",
       "      <td>0.967500</td>\n",
       "      <td>0.982857</td>\n",
       "      <td>0.999584</td>\n",
       "    </tr>\n",
       "    <tr>\n",
       "      <td>800</td>\n",
       "      <td>0.002700</td>\n",
       "      <td>0.008109</td>\n",
       "      <td>0.998906</td>\n",
       "      <td>0.998067</td>\n",
       "      <td>0.998711</td>\n",
       "      <td>0.999993</td>\n",
       "    </tr>\n",
       "    <tr>\n",
       "      <td>1000</td>\n",
       "      <td>0.008700</td>\n",
       "      <td>0.007986</td>\n",
       "      <td>0.998359</td>\n",
       "      <td>0.998065</td>\n",
       "      <td>0.998065</td>\n",
       "      <td>0.999990</td>\n",
       "    </tr>\n",
       "    <tr>\n",
       "      <td>1200</td>\n",
       "      <td>0.036800</td>\n",
       "      <td>0.014478</td>\n",
       "      <td>0.997539</td>\n",
       "      <td>1.000000</td>\n",
       "      <td>0.997088</td>\n",
       "      <td>0.999992</td>\n",
       "    </tr>\n",
       "    <tr>\n",
       "      <td>1400</td>\n",
       "      <td>0.017900</td>\n",
       "      <td>0.011132</td>\n",
       "      <td>0.998086</td>\n",
       "      <td>1.000000</td>\n",
       "      <td>0.997737</td>\n",
       "      <td>0.999996</td>\n",
       "    </tr>\n",
       "    <tr>\n",
       "      <td>1600</td>\n",
       "      <td>0.035000</td>\n",
       "      <td>0.004520</td>\n",
       "      <td>0.999180</td>\n",
       "      <td>0.998068</td>\n",
       "      <td>0.999033</td>\n",
       "      <td>0.999995</td>\n",
       "    </tr>\n",
       "    <tr>\n",
       "      <td>1800</td>\n",
       "      <td>0.009800</td>\n",
       "      <td>0.010224</td>\n",
       "      <td>0.998086</td>\n",
       "      <td>0.997421</td>\n",
       "      <td>0.997743</td>\n",
       "      <td>0.999991</td>\n",
       "    </tr>\n",
       "    <tr>\n",
       "      <td>2000</td>\n",
       "      <td>0.000200</td>\n",
       "      <td>0.009765</td>\n",
       "      <td>0.998086</td>\n",
       "      <td>0.997421</td>\n",
       "      <td>0.997743</td>\n",
       "      <td>0.999990</td>\n",
       "    </tr>\n",
       "  </tbody>\n",
       "</table><p>"
      ],
      "text/plain": [
       "<IPython.core.display.HTML object>"
      ]
     },
     "metadata": {},
     "output_type": "display_data"
    },
    {
     "data": {
      "text/plain": [
       "TrainOutput(global_step=2000, training_loss=0.050017284031026066, metrics={'train_runtime': 929.6821, 'train_samples_per_second': 10.756, 'train_steps_per_second': 2.151, 'total_flos': 2631110553600000.0, 'train_loss': 0.050017284031026066, 'epoch': 1.0})"
      ]
     },
     "execution_count": 103,
     "metadata": {},
     "output_type": "execute_result"
    }
   ],
   "source": [
    "trainer.train()"
   ]
  },
  {
   "cell_type": "code",
   "execution_count": 107,
   "metadata": {
    "id": "LQkeXI3yZ8aN",
    "outputId": "3315b38e-e959-4920-d44c-90e28a70f68e"
   },
   "outputs": [
    {
     "data": {
      "text/html": [
       "\n",
       "    <div>\n",
       "      \n",
       "      <progress value='732' max='732' style='width:300px; height:20px; vertical-align: middle;'></progress>\n",
       "      [732/732 00:42]\n",
       "    </div>\n",
       "    "
      ],
      "text/plain": [
       "<IPython.core.display.HTML object>"
      ]
     },
     "metadata": {},
     "output_type": "display_data"
    },
    {
     "data": {
      "text/plain": [
       "{'eval_loss': 0.00452004000544548,\n",
       " 'eval_acc': 0.9991796554552912,\n",
       " 'eval_prec': 0.9980682549903412,\n",
       " 'eval_f1': 0.999033193683532,\n",
       " 'eval_auroc': 0.9999951008160204,\n",
       " 'eval_runtime': 42.4217,\n",
       " 'eval_samples_per_second': 86.206,\n",
       " 'eval_steps_per_second': 17.255,\n",
       " 'epoch': 1.0}"
      ]
     },
     "execution_count": 107,
     "metadata": {},
     "output_type": "execute_result"
    }
   ],
   "source": [
    "# evaluate the current model after training\n",
    "trainer.evaluate()\n",
    "\n",
    "# trainer.evaluate(eval_dataset=test_dataset)"
   ]
  },
  {
   "cell_type": "code",
   "execution_count": 108,
   "metadata": {
    "id": "X6Ly_nTEZ-gQ"
   },
   "outputs": [
    {
     "data": {
      "text/plain": [
       "('fake-news-bert-base-uncased\\\\tokenizer_config.json',\n",
       " 'fake-news-bert-base-uncased\\\\special_tokens_map.json',\n",
       " 'fake-news-bert-base-uncased\\\\vocab.txt',\n",
       " 'fake-news-bert-base-uncased\\\\added_tokens.json',\n",
       " 'fake-news-bert-base-uncased\\\\tokenizer.json')"
      ]
     },
     "execution_count": 108,
     "metadata": {},
     "output_type": "execute_result"
    }
   ],
   "source": [
    "# saving the fine tuned model & tokenizer\n",
    "model_path = \"fake-news-bert-base-uncased\"\n",
    "model.save_pretrained(model_path)\n",
    "tokenizer.save_pretrained(model_path)"
   ]
  },
  {
   "cell_type": "code",
   "execution_count": 109,
   "metadata": {
    "id": "dSaRzaYMaIcf"
   },
   "outputs": [],
   "source": [
    "def get_prediction(text, convert_to_label=False):\n",
    "    # prepare our text into tokenized sequence\n",
    "    inputs = tokenizer(text, padding=True, truncation=True, max_length=max_length, return_tensors=\"pt\").to(\"cuda\")\n",
    "    # perform inference to our model\n",
    "    outputs = model(**inputs)\n",
    "    # get output probabilities by doing softmax\n",
    "    probs = outputs[0].softmax(1)\n",
    "    # executing argmax function to get the candidate label\n",
    "    d = {\n",
    "        0: \"reliable\",\n",
    "        1: \"fake\"\n",
    "    }\n",
    "    if convert_to_label:\n",
    "      return d[int(probs.argmax())]\n",
    "    else:\n",
    "      return int(probs.argmax())"
   ]
  },
  {
   "cell_type": "code",
   "execution_count": 110,
   "metadata": {
    "id": "JiekDmrGaKSY"
   },
   "outputs": [],
   "source": [
    "real_news = \"\"\"\n",
    "The Power of Solitude in a Connected World\n",
    "\n",
    "In today's hyper-connected society, solitude often bears a negative connotation. It is frequently mistaken for loneliness, a state associated with sadness and social isolation. However, solitude, when chosen and embraced, is far from this bleak misinterpretation. It is a powerful tool for personal growth, creativity, and mental well-being.\n",
    "\n",
    "In an era dominated by constant digital interaction, the opportunity for solitude has become a rare commodity. Social media platforms, instant messaging, and the relentless stream of notifications create an environment where being alone is increasingly challenging. This perpetual connectivity can lead to a fragmented attention span, stress, and a diluted sense of self. Thus, carving out moments of solitude becomes essential for maintaining mental equilibrium and fostering a deeper connection with oneself.\n",
    "\n",
    "Solitude offers a sanctuary for introspection. In the absence of external distractions, individuals can engage in self-reflection, allowing them to understand their thoughts, emotions, and motivations more clearly. This introspective process is crucial for personal growth. It enables one to identify their strengths and weaknesses, set meaningful goals, and develop a strong sense of identity. By spending time alone, individuals can cultivate a more profound understanding of who they are and what they truly value, leading to more authentic and fulfilling lives.\n",
    "\n",
    "Moreover, solitude is a fertile ground for creativity. Many great artists, writers, and thinkers have attributed their most significant breakthroughs to periods of isolation. When alone, the mind is free to wander, unhindered by the immediate demands of social interaction or the influence of others' opinions. This mental freedom allows for the incubation of innovative ideas and creative solutions. It provides the mental space needed for deep work and concentrated effort, which are essential for producing high-quality, original work.\n",
    "\n",
    "Solitude also enhances mental well-being. It serves as a counterbalance to the stress and overstimulation of modern life. Time spent alone can be restorative, offering a break from the pressures of social expectations and the relentless pace of daily activities. It allows individuals to recharge, reducing anxiety and increasing resilience. Engaging in solitary activities such as reading, walking in nature, or meditating can have profound calming effects, promoting a sense of peace and contentment.\n",
    "\n",
    "In conclusion, solitude is not merely the absence of social interaction but a rich and multifaceted experience that contributes significantly to personal development, creativity, and mental health. In a world where being constantly connected is the norm, it is crucial to recognize the value of spending time alone. Embracing solitude can lead to a more introspective, creative, and balanced life, making it an indispensable aspect of modern living.\n",
    "\"\"\""
   ]
  },
  {
   "cell_type": "code",
   "execution_count": 111,
   "metadata": {
    "id": "s1Eqrx7WaLug",
    "outputId": "16b83910-570b-497a-fdcc-a416f5ee3b6f"
   },
   "outputs": [
    {
     "data": {
      "text/plain": [
       "'fake'"
      ]
     },
     "execution_count": 111,
     "metadata": {},
     "output_type": "execute_result"
    }
   ],
   "source": [
    "get_prediction(real_news, convert_to_label=True)"
   ]
  },
  {
   "cell_type": "code",
   "execution_count": null,
   "metadata": {
    "id": "ho3WFFmR1w3G"
   },
   "outputs": [],
   "source": [
    "test_df = pd.read_csv(\"test.csv\")\n",
    "# make a copy of the testing set\n",
    "new_df = test_df.copy()\n",
    "# add a new column that contains the author, title and article content\n",
    "new_df[\"new_text\"] = new_df[\"author\"].astype(str) + \" : \" + new_df[\"title\"].astype(str) + \" - \" + new_df[\"text\"].astype(str)\n",
    "# get the prediction of all the test set\n",
    "new_df[\"label\"] = new_df[\"new_text\"].apply(get_prediction)\n",
    "# make the submission file\n",
    "final_df = new_df[[\"id\", \"label\"]]\n",
    "final_df.to_csv(\"submit_final.csv\", index=False)"
   ]
  },
  {
   "cell_type": "code",
   "execution_count": 50,
   "metadata": {
    "id": "HdtXU4Eh1w3G",
    "outputId": "ee208b76-4fc6-4771-ebd3-c0f3fd87c5e0"
   },
   "outputs": [
    {
     "name": "stdout",
     "output_type": "stream",
     "text": [
      "Accuracy: 63.44%\n",
      "0        True\n",
      "1        True\n",
      "2       False\n",
      "3       False\n",
      "4        True\n",
      "        ...  \n",
      "5195     True\n",
      "5196    False\n",
      "5197     True\n",
      "5198     True\n",
      "5199     True\n",
      "Name: label_match, Length: 5200, dtype: bool\n"
     ]
    }
   ],
   "source": [
    "# Ignore this, this is for the kaggle submission but it lets me see what the testing accuracy is\n",
    "# And also it is not 63.62% that is a different model that sucks, the actual test accuracy was 99.8%\n",
    "test = pd.read_csv(\"submit_final.csv\")\n",
    "test2 = pd.read_csv(\"submit.csv\")\n",
    "\n",
    "merged = pd.merge(test, test2, on='id', suffixes=('_final', '_submit'))\n",
    "\n",
    "# Compare the labels\n",
    "merged['label_match'] = merged['label_final'] == merged['label_submit']\n",
    "\n",
    "# Calculate the accuracy\n",
    "accuracy = merged['label_match'].mean()\n",
    "\n",
    "# Print the accuracy\n",
    "print(f\"Accuracy: {accuracy:.2%}\")\n",
    "print(merged['label_match'])\n"
   ]
  },
  {
   "cell_type": "code",
   "execution_count": 106,
   "metadata": {},
   "outputs": [
    {
     "data": {
      "image/png": "[encoded data removed]",
      "text/plain": [
       "<Figure size 1200x800 with 4 Axes>"
      ]
     },
     "metadata": {},
     "output_type": "display_data"
    }
   ],
   "source": [
    "import matplotlib.pyplot as plt\n",
    "\n",
    "# Provided data\n",
    "steps = [200, 400, 600, 800, 1000, 1200, 1400, 1600, 1800, 2000]\n",
    "training_loss = [0.295200, 0.039200, 0.054800, 0.002700, 0.008700, 0.036800, 0.017900, 0.035000, 0.009800, 0.000200]\n",
    "validation_loss = [0.041633, 0.011711, 0.063095, 0.008109, 0.007986, 0.014478, 0.011132, 0.004520, 0.010224, 0.009765]\n",
    "accuracy = [0.992343, 0.997812, 0.985234, 0.998906, 0.998359, 0.997539, 0.998086, 0.999180, 0.998086, 0.998086]\n",
    "precision = [0.999344, 0.997419, 0.967500, 0.998067, 0.998065, 1.000000, 1.000000, 0.998068, 0.997421, 0.997421]\n",
    "f1 = [0.990891, 0.997419, 0.982857, 0.998711, 0.998065, 0.997088, 0.997737, 0.999033, 0.997743, 0.997743]\n",
    "auroc = [0.999911, 0.999931, 0.999584, 0.999993, 0.999990, 0.999992, 0.999996, 0.999995, 0.999991, 0.999990]\n",
    "\n",
    "# Plot Accuracy\n",
    "plt.figure(figsize=(12, 8))\n",
    "plt.subplot(2, 2, 1)\n",
    "plt.plot(steps, accuracy, marker='o', linestyle='-', color='b', label='Accuracy')\n",
    "plt.title('10,000 Sample Size with 5 Batches Accuracy')\n",
    "plt.xlabel('Steps')\n",
    "plt.ylabel('Accuracy')\n",
    "plt.legend()\n",
    "plt.ylim(0, 1.1)\n",
    "plt.grid(True)\n",
    "\n",
    "# Plot F1 Score\n",
    "plt.subplot(2, 2, 2)\n",
    "plt.plot(steps, f1, marker='o', linestyle='-', color='r', label='F1 Score')\n",
    "plt.title('10,000 Sample Size with 5 Batches F1 Score')\n",
    "plt.xlabel('Steps')\n",
    "plt.ylabel('F1 Score')\n",
    "plt.legend()\n",
    "plt.ylim(0, 1.1)\n",
    "plt.grid(True)\n",
    "\n",
    "# Plot AUROC\n",
    "plt.subplot(2, 2, 3)\n",
    "plt.plot(steps, auroc, marker='o', linestyle='-', color='m', label='AUROC')\n",
    "plt.title('10,000 Sample Size with 5 Batches AUROC')\n",
    "plt.xlabel('Steps')\n",
    "plt.ylabel('AUROC')\n",
    "plt.legend()\n",
    "plt.ylim(0, 1.1)\n",
    "plt.grid(True)\n",
    "\n",
    "# Plot Training and Validation Loss\n",
    "plt.subplot(2, 2, 4)\n",
    "plt.plot(steps, training_loss, marker='o', linestyle='-', color='g', label='Training Loss')\n",
    "plt.plot(steps, validation_loss, marker='o', linestyle='-', color='orange', label='Validation Loss')\n",
    "plt.title('Training and Validation Loss')\n",
    "plt.xlabel('Steps')\n",
    "plt.ylabel('Loss')\n",
    "plt.legend()\n",
    "plt.ylim(0, 1.1)\n",
    "plt.grid(True)\n",
    "\n",
    "plt.tight_layout()\n",
    "plt.show()\n"
   ]
  },
  {
   "cell_type": "code",
   "execution_count": null,
   "metadata": {},
   "outputs": [],
   "source": []
  }
 ],
 "metadata": {
  "colab": {
   "provenance": []
  },
  "kernelspec": {
   "display_name": "Python 3 (ipykernel)",
   "language": "python",
   "name": "python3"
  },
  "language_info": {
   "codemirror_mode": {
    "name": "ipython",
    "version": 3
   },
   "file_extension": ".py",
   "mimetype": "text/x-python",
   "name": "python",
   "nbconvert_exporter": "python",
   "pygments_lexer": "ipython3",
   "version": "3.11.1"
  }
 },
 "nbformat": 4,
 "nbformat_minor": 4
}
